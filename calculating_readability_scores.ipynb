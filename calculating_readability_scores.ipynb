{
  "cells": [
    {
      "cell_type": "markdown",
      "metadata": {
        "id": "view-in-github",
        "colab_type": "text"
      },
      "source": [
        "<a href=\"https://colab.research.google.com/github/nilotpal9126/Analytics-Vidhya-Jobathon/blob/main/calculating_readability_scores.ipynb\" target=\"_parent\"><img src=\"https://colab.research.google.com/assets/colab-badge.svg\" alt=\"Open In Colab\"/></a>"
      ]
    },
    {
      "cell_type": "code",
      "source": [
        "# Using an alternative method to calculate readability using the Python package textatistic\n",
        "!pip install Textatistic\n",
        "from textatistic import Textatistic\n",
        "\n",
        "# Input text\n",
        "text = \"\"\"\n",
        "Prime Ministers of India\n",
        "\n",
        "The Prime Minister of our country is the head of the Government of India. They are responsible for running the government smoothly. Usually, the Prime Minister is elected from the party with the majority of seats in the Lok Sabha (Lower House) of the Parliament.\n",
        "\n",
        "Since our independence, we have had 14 Prime Ministers and 1 Acting Prime Minister. Here, you need to identify them all!\n",
        "\n",
        "(Jawaharlal Nehru)\n",
        "15th August 1947 – 27th May 1964\n",
        "1. He was the longest-serving Prime Minister of India. He held the position for over 16 years until his death in 1964. He is also remembered for his fondness and love for children.\n",
        "\n",
        "(Lal Bahadur Shastri)\n",
        "9th June 1964 – 11th January 1966\n",
        "2. This leader gave the famous slogan “Jai Jawan! Jai Kisan!”, which means “Hail the soldier! Hail the farmer!”. His birth anniversary is celebrated on 2nd October.\n",
        "\n",
        "(Indira Gandhi)\n",
        "24th January 1966 – 24th March 1977\n",
        "14th January 1980 – 31st October 1984\n",
        "3. In 1966, she became India’s first and only woman Prime Minister. She is the second-longest serving Prime Minister of India. She was also the mother of India’s sixth PM.\n",
        "\n",
        "(Morarji Desai)\n",
        "24th March 1977 – 28th July 1979\n",
        "4. He served as the second Chief Minister of Bombay state. He was elected as the PM of India when the Janata Party came into power. He was also the 2nd Deputy PM of India.\n",
        "\n",
        "(Charan Singh)\n",
        "28th July 1979 – 14th January 1980\n",
        "5. He became the 5th Prime Minister of India in 1979. However, he held the post for only 170 days. He was awarded the Bharat Ratna in 2024.\n",
        "\n",
        "(Rajiv Gandhi)\n",
        "31st October 1984 – 2nd December 1989\n",
        "6. In 1984, at the age of 40, he became India's youngest PM. Before him, his mother and grandfather had both served as the Prime Ministers of India.\n",
        "\n",
        "(V. P. Singh)\n",
        "2nd December 1989 – 10th November 1990\n",
        "7. He formed the Janata Dal in 1988 and became the 7th Prime Minister of India in 1989. His prime ministerial tenure lasted for 343 days.\n",
        "\n",
        "(Chandra Shekhar)\n",
        "10th November 1990 – 21st June 1991\n",
        "8. He became the President of the Janata Party in 1977. Later, he formed the Janata Dal Socialist Party and became the PM in 1990.\n",
        "\n",
        "(P. V. Narasimha Rao)\n",
        "21st June 1991 – 16th May 1996\n",
        "9. He was the 9th Prime Minister of India. He also served as the 4th Chief Minister of Andhra Pradesh. In 2024, he was also honoured with the Bharat Ratna.\n",
        "\n",
        "(Atal Bihari Vajpayee)\n",
        "16th May 1996 – 1st June 1996\n",
        "19th March 1998 – 22nd May 2004\n",
        "10. He was India’s Prime Minister three times. His first term lasted just 16 days, the second term was around 13 months, and the third term was for a full five years.\n",
        "\n",
        "(H. D. Deve Gowda)\n",
        "1st June 1996 – 21st April 1997\n",
        "11. He became the 11th Prime Minister in 1996. Before this, he served as the 14th Chief Minister of Karnataka from 1994 to 1996.\n",
        "\n",
        "(I. K. Gujral)\n",
        "21st April 1997 – 19th March 1998\n",
        "12. He became the 12th Prime Minister of India in 1997. He was also a freedom fighter, who was a part of the Quit India Movement in 1942.\n",
        "\n",
        "(Manmohan Singh)\n",
        "22nd May 2004 – 26th May 2014\n",
        "13. He served as India’s 13th PM from 2004 to 2014. He was India’s Finance Minister from 1991 to 1996, as well as the Governor of the Reserve Bank of India.\n",
        "\n",
        "(Narendra Modi)\n",
        "26th May 2014 – Present\n",
        "14. Born in 1950, he is the only Prime Minister of India to be born after the independence of India. Before that, he was the longest-serving Chief Minister of Gujarat.\n",
        "\n",
        "\"\"\"\n",
        "\n",
        "# Calculating and showing the readability scores\n",
        "readability_scores = Textatistic(text).scores\n",
        "\n",
        "readability_scores\n",
        "\n"
      ],
      "metadata": {
        "colab": {
          "base_uri": "https://localhost:8080/"
        },
        "id": "L0S-5YMZiOZl",
        "outputId": "44e45bcf-db28-4696-f395-ebc6387a78ee"
      },
      "execution_count": 1,
      "outputs": [
        {
          "output_type": "stream",
          "name": "stdout",
          "text": [
            "Collecting Textatistic\n",
            "  Downloading textatistic-0.0.1.tar.gz (29 kB)\n",
            "  Preparing metadata (setup.py) ... \u001b[?25l\u001b[?25hdone\n",
            "Collecting pyhyphen>=2.0.5 (from Textatistic)\n",
            "  Downloading PyHyphen-4.0.4.tar.gz (40 kB)\n",
            "\u001b[2K     \u001b[90m━━━━━━━━━━━━━━━━━━━━━━━━━━━━━━━━━━━━━━━━\u001b[0m \u001b[32m40.5/40.5 kB\u001b[0m \u001b[31m1.2 MB/s\u001b[0m eta \u001b[36m0:00:00\u001b[0m\n",
            "\u001b[?25h  Preparing metadata (setup.py) ... \u001b[?25l\u001b[?25hdone\n",
            "Requirement already satisfied: wheel>=0.40.0 in /usr/local/lib/python3.10/dist-packages (from pyhyphen>=2.0.5->Textatistic) (0.45.1)\n",
            "Requirement already satisfied: setuptools>=68.0 in /usr/local/lib/python3.10/dist-packages (from pyhyphen>=2.0.5->Textatistic) (75.1.0)\n",
            "Collecting appdirs>=1.4.0 (from pyhyphen>=2.0.5->Textatistic)\n",
            "  Downloading appdirs-1.4.4-py2.py3-none-any.whl.metadata (9.0 kB)\n",
            "Requirement already satisfied: requests>=2.25 in /usr/local/lib/python3.10/dist-packages (from pyhyphen>=2.0.5->Textatistic) (2.32.3)\n",
            "Requirement already satisfied: charset-normalizer<4,>=2 in /usr/local/lib/python3.10/dist-packages (from requests>=2.25->pyhyphen>=2.0.5->Textatistic) (3.4.0)\n",
            "Requirement already satisfied: idna<4,>=2.5 in /usr/local/lib/python3.10/dist-packages (from requests>=2.25->pyhyphen>=2.0.5->Textatistic) (3.10)\n",
            "Requirement already satisfied: urllib3<3,>=1.21.1 in /usr/local/lib/python3.10/dist-packages (from requests>=2.25->pyhyphen>=2.0.5->Textatistic) (2.2.3)\n",
            "Requirement already satisfied: certifi>=2017.4.17 in /usr/local/lib/python3.10/dist-packages (from requests>=2.25->pyhyphen>=2.0.5->Textatistic) (2024.12.14)\n",
            "Downloading appdirs-1.4.4-py2.py3-none-any.whl (9.6 kB)\n",
            "Building wheels for collected packages: Textatistic, pyhyphen\n",
            "  Building wheel for Textatistic (setup.py) ... \u001b[?25l\u001b[?25hdone\n",
            "  Created wheel for Textatistic: filename=textatistic-0.0.1-py3-none-any.whl size=29047 sha256=034300c137ebe797cfee94890fb05459a3de3b3560f1bef046cef45b23f81cc1\n",
            "  Stored in directory: /root/.cache/pip/wheels/6e/31/c3/df8af4aa9ec3f671b0e8bc3bfa642c75918f2479ca4050f5f4\n",
            "  Building wheel for pyhyphen (setup.py) ... \u001b[?25l\u001b[?25hdone\n",
            "  Created wheel for pyhyphen: filename=PyHyphen-4.0.4-cp37-abi3-linux_x86_64.whl size=65468 sha256=d7665aa801ea7bb12562d510aad517817b9fab989ea59d4ac03e950f5683c6e5\n",
            "  Stored in directory: /root/.cache/pip/wheels/a0/39/c3/1b8e8428660809de72abc6f40f078bb04d7eb36f7d945e5933\n",
            "Successfully built Textatistic pyhyphen\n",
            "Installing collected packages: appdirs, pyhyphen, Textatistic\n",
            "Successfully installed Textatistic-0.0.1 appdirs-1.4.4 pyhyphen-4.0.4\n"
          ]
        },
        {
          "output_type": "execute_result",
          "data": {
            "text/plain": [
              "{'flesch_score': 88.56766649590166,\n",
              " 'fleschkincaid_score': 3.2737448770491806,\n",
              " 'gunningfog_score': 6.6321721311475414,\n",
              " 'smog_score': 7.811722812724723,\n",
              " 'dalechall_score': 9.053331967213113}"
            ]
          },
          "metadata": {},
          "execution_count": 1
        }
      ]
    }
  ],
  "metadata": {
    "colab": {
      "toc_visible": true,
      "provenance": [],
      "include_colab_link": true
    },
    "kernelspec": {
      "display_name": "Python 3",
      "name": "python3"
    }
  },
  "nbformat": 4,
  "nbformat_minor": 0
}